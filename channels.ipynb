{
 "cells": [
  {
   "cell_type": "code",
   "execution_count": 1,
   "id": "dad3ee09",
   "metadata": {},
   "outputs": [],
   "source": [
    "import warnings\n",
    "warnings.filterwarnings(\"ignore\")\n",
    "\n",
    "from utils import SAFuncActivate"
   ]
  },
  {
   "cell_type": "code",
   "execution_count": 2,
   "id": "2bdf4cac",
   "metadata": {},
   "outputs": [],
   "source": [
    "safa = SAFuncActivate(img_path=\"./data/adhd/data/0010042/0010042_rest_tshift_RPI_voreg_mni.nii.gz\", \n",
    "                      model_path=\"./model/se2sa_1.pth\", device='cpu')"
   ]
  },
  {
   "cell_type": "code",
   "execution_count": null,
   "id": "8add7874",
   "metadata": {},
   "outputs": [],
   "source": [
    "safa.plot_one_net()"
   ]
  }
 ],
 "metadata": {
  "kernelspec": {
   "display_name": "Python 3 (ipykernel)",
   "language": "python",
   "name": "python3"
  },
  "language_info": {
   "codemirror_mode": {
    "name": "ipython",
    "version": 3
   },
   "file_extension": ".py",
   "mimetype": "text/x-python",
   "name": "python",
   "nbconvert_exporter": "python",
   "pygments_lexer": "ipython3",
   "version": "3.9.7"
  }
 },
 "nbformat": 4,
 "nbformat_minor": 5
}
